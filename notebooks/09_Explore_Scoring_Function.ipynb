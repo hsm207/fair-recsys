{
 "cells": [
  {
   "cell_type": "markdown",
   "metadata": {
    "toc": true
   },
   "source": [
    "<h1>Table of Contents<span class=\"tocSkip\"></span></h1>\n",
    "<div class=\"toc\" style=\"margin-top: 1em;\"><ul class=\"toc-item\"><li><span><a href=\"#Introduction\" data-toc-modified-id=\"Introduction-1\"><span class=\"toc-item-num\">1&nbsp;&nbsp;</span>Introduction</a></span></li><li><span><a href=\"#Setup\" data-toc-modified-id=\"Setup-2\"><span class=\"toc-item-num\">2&nbsp;&nbsp;</span>Setup</a></span></li><li><span><a href=\"#Libraries\" data-toc-modified-id=\"Libraries-3\"><span class=\"toc-item-num\">3&nbsp;&nbsp;</span>Libraries</a></span></li><li><span><a href=\"#Exploration\" data-toc-modified-id=\"Exploration-4\"><span class=\"toc-item-num\">4&nbsp;&nbsp;</span>Exploration</a></span></li></ul></div>"
   ]
  },
  {
   "cell_type": "markdown",
   "metadata": {},
   "source": [
    "# Introduction"
   ]
  },
  {
   "cell_type": "markdown",
   "metadata": {},
   "source": [
    "This notebook explores the properties of the scoring function."
   ]
  },
  {
   "cell_type": "markdown",
   "metadata": {},
   "source": [
    "# Setup"
   ]
  },
  {
   "cell_type": "code",
   "execution_count": 1,
   "metadata": {},
   "outputs": [],
   "source": [
    "%%capture\n",
    "%cd .."
   ]
  },
  {
   "cell_type": "markdown",
   "metadata": {},
   "source": [
    "# Libraries"
   ]
  },
  {
   "cell_type": "code",
   "execution_count": 2,
   "metadata": {},
   "outputs": [],
   "source": [
    "from src import preference_reranker as pr"
   ]
  },
  {
   "cell_type": "code",
   "execution_count": 3,
   "metadata": {},
   "outputs": [],
   "source": [
    "import seaborn as sns; sns.set()"
   ]
  },
  {
   "cell_type": "markdown",
   "metadata": {},
   "source": [
    "# Exploration"
   ]
  },
  {
   "cell_type": "markdown",
   "metadata": {},
   "source": [
    "The scoring function:"
   ]
  },
  {
   "cell_type": "code",
   "execution_count": 4,
   "metadata": {},
   "outputs": [
    {
     "name": "stdout",
     "output_type": "stream",
     "text": [
      "Help on function compute_movie_score in module src.preference_reranker:\n",
      "\n",
      "compute_movie_score(movie:src.custom_types.Movie, current_reclist:List[src.custom_types.Movie], longtail_pref:float, longtail_weight:float) -> float\n",
      "\n"
     ]
    }
   ],
   "source": [
    "help(pr.compute_movie_score)"
   ]
  },
  {
   "cell_type": "markdown",
   "metadata": {},
   "source": [
    "Create a longtail movie:"
   ]
  },
  {
   "cell_type": "code",
   "execution_count": 5,
   "metadata": {},
   "outputs": [],
   "source": [
    "m = pr.Movie(movie_id=123, base_score=0.7, category=\"longtail\")"
   ]
  },
  {
   "cell_type": "markdown",
   "metadata": {},
   "source": [
    "When current list, $S$ contains just shorthead items:"
   ]
  },
  {
   "cell_type": "code",
   "execution_count": 6,
   "metadata": {},
   "outputs": [
    {
     "data": {
      "text/plain": [
       "[Text(0, 0.5, 'new score'), Text(0.5, 0, '$|S|$')]"
      ]
     },
     "execution_count": 6,
     "metadata": {},
     "output_type": "execute_result"
    },
    {
     "data": {
      "image/png": "[encoded data removed]",
      "text/plain": [
       "<Figure size 432x288 with 1 Axes>"
      ]
     },
     "metadata": {
      "needs_background": "light"
     },
     "output_type": "display_data"
    }
   ],
   "source": [
    "x = list(range(11))\n",
    "y = []\n",
    "\n",
    "for i in x:\n",
    "    current_reclist = [pr.Movie(454, 0.9, category=\"shorthead\") for _ in range(i)]\n",
    "    y = pr.compute_movie_score(movie = m,\n",
    "                               current_reclist=current_reclist,\n",
    "                               longtail_pref=0.9,\n",
    "                               longtail_weight=0.5)\n",
    "\n",
    "ax = sns.lineplot(x=x, y=y)\n",
    "ax.set(xlabel=\"$|S|$\", ylabel=\"new score\")"
   ]
  },
  {
   "cell_type": "markdown",
   "metadata": {},
   "source": [
    "When current list, $S$, contains just longtail items:"
   ]
  },
  {
   "cell_type": "code",
   "execution_count": 7,
   "metadata": {},
   "outputs": [
    {
     "data": {
      "text/plain": [
       "[Text(0, 0.5, 'new score'), Text(0.5, 0, '$|S|$')]"
      ]
     },
     "execution_count": 7,
     "metadata": {},
     "output_type": "execute_result"
    },
    {
     "data": {
      "image/png": "[encoded data removed]",
      "text/plain": [
       "<Figure size 432x288 with 1 Axes>"
      ]
     },
     "metadata": {
      "needs_background": "light"
     },
     "output_type": "display_data"
    }
   ],
   "source": [
    "x = list(range(11))\n",
    "y = []\n",
    "\n",
    "for i in x:\n",
    "    current_reclist = [pr.Movie(454, 0.9, category=\"longtail\") for _ in range(i)]\n",
    "    y = pr.compute_movie_score(movie = m,\n",
    "                               current_reclist=current_reclist,\n",
    "                               longtail_pref=0.9,\n",
    "                               longtail_weight=0.5)\n",
    "\n",
    "ax = sns.lineplot(x=x, y=y)\n",
    "ax.set(xlabel=\"$|S|$\", ylabel=\"new score\")"
   ]
  },
  {
   "cell_type": "code",
   "execution_count": 8,
   "metadata": {},
   "outputs": [
    {
     "data": {
      "text/plain": [
       "[Text(0, 0.5, 'new score'), Text(0.5, 0, '$|S|$')]"
      ]
     },
     "execution_count": 8,
     "metadata": {},
     "output_type": "execute_result"
    },
    {
     "data": {
      "image/png": "[encoded data removed]",
      "text/plain": [
       "<Figure size 432x288 with 1 Axes>"
      ]
     },
     "metadata": {
      "needs_background": "light"
     },
     "output_type": "display_data"
    }
   ],
   "source": [
    "longtail_weight = 0.50\n",
    "base_score = 0.70\n",
    "category_ratio = 0.20\n",
    "category_pref = 0.90\n",
    "\n",
    "xs = list(range(1, 51))\n",
    "ys = []\n",
    "\n",
    "for x in xs:\n",
    "    recsize = x\n",
    "    \n",
    "    weighted_base_score = (1 - longtail_weight) * base_score\n",
    "    weighted_category_booster = (\n",
    "        longtail_weight * category_pref * (1 - category_ratio) ** recsize\n",
    "    )\n",
    "    \n",
    "    y = weighted_base_score + weighted_category_booster\n",
    "    ys.append(y)\n",
    "\n",
    "ax = sns.lineplot(x=xs, y=ys)\n",
    "ax.set(xlabel=\"$|S|$\", ylabel=\"new score\")"
   ]
  }
 ],
 "metadata": {
  "@webio": {
   "lastCommId": null,
   "lastKernelId": null
  },
  "kernelspec": {
   "display_name": "dbconnect",
   "language": "python",
   "name": "dbconnect"
  },
  "language_info": {
   "codemirror_mode": {
    "name": "ipython",
    "version": 3
   },
   "file_extension": ".py",
   "mimetype": "text/x-python",
   "name": "python",
   "nbconvert_exporter": "python",
   "pygments_lexer": "ipython3",
   "version": "3.6.9"
  },
  "toc": {
   "nav_menu": {},
   "number_sections": true,
   "sideBar": true,
   "skip_h1_title": false,
   "toc_cell": true,
   "toc_position": {},
   "toc_section_display": "block",
   "toc_window_display": true
  }
 },
 "nbformat": 4,
 "nbformat_minor": 2
}
