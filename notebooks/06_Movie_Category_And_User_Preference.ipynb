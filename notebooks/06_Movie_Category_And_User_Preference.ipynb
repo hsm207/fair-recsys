{
 "cells": [
  {
   "cell_type": "markdown",
   "metadata": {
    "toc": true
   },
   "source": [
    "<h1>Table of Contents<span class=\"tocSkip\"></span></h1>\n",
    "<div class=\"toc\" style=\"margin-top: 1em;\"><ul class=\"toc-item\"><li><span><a href=\"#Introduction\" data-toc-modified-id=\"Introduction-1\"><span class=\"toc-item-num\">1&nbsp;&nbsp;</span>Introduction</a></span></li><li><span><a href=\"#Setup\" data-toc-modified-id=\"Setup-2\"><span class=\"toc-item-num\">2&nbsp;&nbsp;</span>Setup</a></span></li><li><span><a href=\"#Libraries\" data-toc-modified-id=\"Libraries-3\"><span class=\"toc-item-num\">3&nbsp;&nbsp;</span>Libraries</a></span></li><li><span><a href=\"#Movie-Category\" data-toc-modified-id=\"Movie-Category-4\"><span class=\"toc-item-num\">4&nbsp;&nbsp;</span>Movie Category</a></span></li><li><span><a href=\"#User-Preference\" data-toc-modified-id=\"User-Preference-5\"><span class=\"toc-item-num\">5&nbsp;&nbsp;</span>User Preference</a></span></li></ul></div>"
   ]
  },
  {
   "cell_type": "markdown",
   "metadata": {},
   "source": [
    "# Introduction"
   ]
  },
  {
   "cell_type": "markdown",
   "metadata": {},
   "source": [
    "This notebook computes the category of each movie (long tail or short head) and each user's preference for long tail movies."
   ]
  },
  {
   "cell_type": "markdown",
   "metadata": {},
   "source": [
    "# Setup"
   ]
  },
  {
   "cell_type": "code",
   "execution_count": 1,
   "metadata": {},
   "outputs": [],
   "source": [
    "%%capture\n",
    "%cd .."
   ]
  },
  {
   "cell_type": "code",
   "execution_count": 2,
   "metadata": {},
   "outputs": [],
   "source": [
    "data_dir = \"/tmp/ml-20m\""
   ]
  },
  {
   "cell_type": "markdown",
   "metadata": {},
   "source": [
    "# Libraries"
   ]
  },
  {
   "cell_type": "code",
   "execution_count": 3,
   "metadata": {},
   "outputs": [],
   "source": [
    "from pyspark.sql import SparkSession\n",
    "import pyspark.sql.functions as F\n",
    "from pyspark.sql.window import Window"
   ]
  },
  {
   "cell_type": "code",
   "execution_count": 4,
   "metadata": {},
   "outputs": [],
   "source": [
    "from src import data"
   ]
  },
  {
   "cell_type": "code",
   "execution_count": 5,
   "metadata": {},
   "outputs": [],
   "source": [
    "spark = SparkSession.builder.getOrCreate()"
   ]
  },
  {
   "cell_type": "markdown",
   "metadata": {},
   "source": [
    "# Movie Category"
   ]
  },
  {
   "cell_type": "code",
   "execution_count": 6,
   "metadata": {},
   "outputs": [],
   "source": [
    "interactions_df = data.get_data(\"/tmp/ml-20m/ratings.csv\")"
   ]
  },
  {
   "cell_type": "code",
   "execution_count": 7,
   "metadata": {},
   "outputs": [
    {
     "name": "stdout",
     "output_type": "stream",
     "text": [
      "+------+-------+------+-------------------+\n",
      "|userId|movieId|rating|          timestamp|\n",
      "+------+-------+------+-------------------+\n",
      "|     1|      2|   3.5|2005-04-02 23:53:47|\n",
      "|     1|     29|   3.5|2005-04-02 23:31:16|\n",
      "|     1|     32|   3.5|2005-04-02 23:33:39|\n",
      "|     1|     47|   3.5|2005-04-02 23:32:07|\n",
      "|     1|     50|   3.5|2005-04-02 23:29:40|\n",
      "+------+-------+------+-------------------+\n",
      "only showing top 5 rows\n",
      "\n"
     ]
    }
   ],
   "source": [
    "interactions_df.show(5)"
   ]
  },
  {
   "cell_type": "code",
   "execution_count": 8,
   "metadata": {},
   "outputs": [],
   "source": [
    "# window to sum total number of ratings for all moviews\n",
    "w1 = Window() \\\n",
    "    .orderBy(F.col(\"total_rating\").desc()) \\\n",
    "    .rowsBetween(Window.unboundedPreceding, Window.unboundedFollowing)\n",
    "\n",
    "# window to do cumulative sum of ratings\n",
    "w2 = Window() \\\n",
    "    .orderBy(F.col(\"total_rating\").desc()) \\\n",
    "    .rowsBetween(Window.unboundedPreceding, 0)\n",
    "\n",
    "movie_categories = interactions_df \\\n",
    "    .groupBy(\"movieId\") \\\n",
    "    .count() \\\n",
    "    .withColumnRenamed(\"count\", \"total_rating\") \\\n",
    "    .withColumn(\"grand_total_ratings\", F.sum(\"total_rating\").over(w1)) \\\n",
    "    .withColumn(\"cumulative_total_ratings\", F.sum(\"total_rating\").over(w2)) \\\n",
    "    .withColumn(\"frac\", F.expr (\"cumulative_total_ratings/grand_total_ratings\")) \\\n",
    "    .orderBy(F.col(\"total_rating\").desc()) \\\n",
    "    .withColumn(\"category\", F.expr(\"\"\"\n",
    "    CASE WHEN frac <= 0.80 THEN 'shorthead'\n",
    "         ELSE 'longtail'\n",
    "    END\n",
    "    \"\"\")) \\\n",
    "    .withColumn(\"category\", F.expr(\"\"\"\n",
    "    CASE WHEN total_rating < 20 THEN 'distanttail'\n",
    "         ELSE category\n",
    "    END\n",
    "    \"\"\")) \\\n",
    "    .select(\"movieId\", \"category\")\n",
    "\n",
    "movie_categories \\\n",
    "    .write.mode(\"overwrite\").parquet(f\"{data_dir}/movie_categories.parquet\")"
   ]
  },
  {
   "cell_type": "markdown",
   "metadata": {},
   "source": [
    "# User Preference"
   ]
  },
  {
   "cell_type": "code",
   "execution_count": 9,
   "metadata": {},
   "outputs": [],
   "source": [
    "user_preference = interactions_df \\\n",
    "    .join(movie_categories, \"MovieId\", \"left\") \\\n",
    "    .groupBy(\"userId\", \"category\") \\\n",
    "    .count() \\\n",
    "    .groupBy(\"userId\") \\\n",
    "    .pivot(\"category\") \\\n",
    "    .agg(F.sum(\"count\")) \\\n",
    "    .na.fill(0) \\\n",
    "    .withColumn(\"longtail_pref\", F.expr(\"longtail/(longtail + shorthead)\")) \\\n",
    "    .withColumn(\"longtail_pref\", F.expr(\"round(longtail_pref, 2)\")) \\\n",
    "    .select(\"userId\", \"longtail_pref\")\n",
    "\n",
    "user_preference \\\n",
    "    .write.mode(\"overwrite\").parquet(f\"{data_dir}/user_preference.parquet\")"
   ]
  }
 ],
 "metadata": {
  "@webio": {
   "lastCommId": null,
   "lastKernelId": null
  },
  "kernelspec": {
   "display_name": "dbconnect",
   "language": "python",
   "name": "dbconnect"
  },
  "language_info": {
   "codemirror_mode": {
    "name": "ipython",
    "version": 3
   },
   "file_extension": ".py",
   "mimetype": "text/x-python",
   "name": "python",
   "nbconvert_exporter": "python",
   "pygments_lexer": "ipython3",
   "version": "3.6.9"
  },
  "toc": {
   "nav_menu": {},
   "number_sections": true,
   "sideBar": true,
   "skip_h1_title": false,
   "toc_cell": true,
   "toc_position": {},
   "toc_section_display": "block",
   "toc_window_display": true
  }
 },
 "nbformat": 4,
 "nbformat_minor": 2
}
