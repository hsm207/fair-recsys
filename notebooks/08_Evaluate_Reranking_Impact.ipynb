{
 "cells": [
  {
   "cell_type": "markdown",
   "metadata": {
    "toc": true
   },
   "source": [
    "<h1>Table of Contents<span class=\"tocSkip\"></span></h1>\n",
    "<div class=\"toc\" style=\"margin-top: 1em;\"><ul class=\"toc-item\"><li><span><a href=\"#Introduction\" data-toc-modified-id=\"Introduction-1\"><span class=\"toc-item-num\">1&nbsp;&nbsp;</span>Introduction</a></span></li><li><span><a href=\"#Setup\" data-toc-modified-id=\"Setup-2\"><span class=\"toc-item-num\">2&nbsp;&nbsp;</span>Setup</a></span></li><li><span><a href=\"#Libraries\" data-toc-modified-id=\"Libraries-3\"><span class=\"toc-item-num\">3&nbsp;&nbsp;</span>Libraries</a></span></li><li><span><a href=\"#Data\" data-toc-modified-id=\"Data-4\"><span class=\"toc-item-num\">4&nbsp;&nbsp;</span>Data</a></span></li><li><span><a href=\"#Evaluation\" data-toc-modified-id=\"Evaluation-5\"><span class=\"toc-item-num\">5&nbsp;&nbsp;</span>Evaluation</a></span><ul class=\"toc-item\"><li><span><a href=\"#Without-Reranking\" data-toc-modified-id=\"Without-Reranking-5.1\"><span class=\"toc-item-num\">5.1&nbsp;&nbsp;</span>Without Reranking</a></span></li><li><span><a href=\"#With-Reranking\" data-toc-modified-id=\"With-Reranking-5.2\"><span class=\"toc-item-num\">5.2&nbsp;&nbsp;</span>With Reranking</a></span></li></ul></li></ul></div>"
   ]
  },
  {
   "cell_type": "markdown",
   "metadata": {},
   "source": [
    "# Introduction"
   ]
  },
  {
   "cell_type": "markdown",
   "metadata": {},
   "source": [
    "This notebook evaluates the impact of the reranking algorithm on NDCG and coverage of longtail items. "
   ]
  },
  {
   "cell_type": "markdown",
   "metadata": {},
   "source": [
    "# Setup"
   ]
  },
  {
   "cell_type": "code",
   "execution_count": 1,
   "metadata": {},
   "outputs": [],
   "source": [
    "%%capture\n",
    "%cd .."
   ]
  },
  {
   "cell_type": "markdown",
   "metadata": {},
   "source": [
    "# Libraries"
   ]
  },
  {
   "cell_type": "code",
   "execution_count": 2,
   "metadata": {},
   "outputs": [],
   "source": [
    "import pandas as pd"
   ]
  },
  {
   "cell_type": "code",
   "execution_count": 3,
   "metadata": {},
   "outputs": [],
   "source": [
    "from typing import List\n",
    "from pyspark.sql.types import Row"
   ]
  },
  {
   "cell_type": "code",
   "execution_count": 4,
   "metadata": {},
   "outputs": [],
   "source": [
    "from src import preference_reranker as pr"
   ]
  },
  {
   "cell_type": "code",
   "execution_count": 5,
   "metadata": {},
   "outputs": [],
   "source": [
    "from lenskit import topn"
   ]
  },
  {
   "cell_type": "code",
   "execution_count": 6,
   "metadata": {},
   "outputs": [],
   "source": [
    "from pyspark.sql import SparkSession\n",
    "from pyspark.sql import functions as F"
   ]
  },
  {
   "cell_type": "markdown",
   "metadata": {},
   "source": [
    "# Data"
   ]
  },
  {
   "cell_type": "code",
   "execution_count": 7,
   "metadata": {},
   "outputs": [],
   "source": [
    "spark = SparkSession.builder.getOrCreate()"
   ]
  },
  {
   "cell_type": "code",
   "execution_count": 8,
   "metadata": {},
   "outputs": [
    {
     "data": {
      "text/html": [
       "<div>\n",
       "<style scoped>\n",
       "    .dataframe tbody tr th:only-of-type {\n",
       "        vertical-align: middle;\n",
       "    }\n",
       "\n",
       "    .dataframe tbody tr th {\n",
       "        vertical-align: top;\n",
       "    }\n",
       "\n",
       "    .dataframe thead th {\n",
       "        text-align: right;\n",
       "    }\n",
       "</style>\n",
       "<table border=\"1\" class=\"dataframe\">\n",
       "  <thead>\n",
       "    <tr style=\"text-align: right;\">\n",
       "      <th></th>\n",
       "      <th>user</th>\n",
       "      <th>item</th>\n",
       "      <th>rating</th>\n",
       "      <th>timestamp</th>\n",
       "    </tr>\n",
       "  </thead>\n",
       "  <tbody>\n",
       "    <tr>\n",
       "      <th>0</th>\n",
       "      <td>68342</td>\n",
       "      <td>4973</td>\n",
       "      <td>4.5</td>\n",
       "      <td>2011-04-28 03:30:45</td>\n",
       "    </tr>\n",
       "    <tr>\n",
       "      <th>1</th>\n",
       "      <td>68342</td>\n",
       "      <td>6287</td>\n",
       "      <td>2.5</td>\n",
       "      <td>2011-04-26 02:42:38</td>\n",
       "    </tr>\n",
       "    <tr>\n",
       "      <th>2</th>\n",
       "      <td>68342</td>\n",
       "      <td>39</td>\n",
       "      <td>3.0</td>\n",
       "      <td>2011-04-26 02:39:37</td>\n",
       "    </tr>\n",
       "    <tr>\n",
       "      <th>3</th>\n",
       "      <td>68342</td>\n",
       "      <td>30810</td>\n",
       "      <td>5.0</td>\n",
       "      <td>2011-04-26 02:37:39</td>\n",
       "    </tr>\n",
       "    <tr>\n",
       "      <th>4</th>\n",
       "      <td>68342</td>\n",
       "      <td>8361</td>\n",
       "      <td>4.0</td>\n",
       "      <td>2011-04-26 02:56:28</td>\n",
       "    </tr>\n",
       "  </tbody>\n",
       "</table>\n",
       "</div>"
      ],
      "text/plain": [
       "    user   item  rating           timestamp\n",
       "0  68342   4973     4.5 2011-04-28 03:30:45\n",
       "1  68342   6287     2.5 2011-04-26 02:42:38\n",
       "2  68342     39     3.0 2011-04-26 02:39:37\n",
       "3  68342  30810     5.0 2011-04-26 02:37:39\n",
       "4  68342   8361     4.0 2011-04-26 02:56:28"
      ]
     },
     "execution_count": 8,
     "metadata": {},
     "output_type": "execute_result"
    }
   ],
   "source": [
    "test_df = spark.read.parquet(\"/tmp/ml-20m/test_df.parquet/\").toPandas()\n",
    "test_df.head(5)"
   ]
  },
  {
   "cell_type": "code",
   "execution_count": 9,
   "metadata": {},
   "outputs": [
    {
     "name": "stdout",
     "output_type": "stream",
     "text": [
      "+-----+------------------+----+----+\n",
      "| item|             score|user|rank|\n",
      "+-----+------------------+----+----+\n",
      "|  318| 4.000287098418736| 318|   1|\n",
      "| 2959| 3.866550017363461| 318|   2|\n",
      "| 7502|3.8327863796647827| 318|   3|\n",
      "|  296| 3.830272846994498| 318|   4|\n",
      "|77658|3.8224656579497074| 318|   5|\n",
      "+-----+------------------+----+----+\n",
      "only showing top 5 rows\n",
      "\n"
     ]
    }
   ],
   "source": [
    "eval_df = spark.read.parquet(\"/tmp/ml-20m/evaluation_dataset.parquet\") \\\n",
    "    .orderBy(\"user\", \"rank\")\n",
    "eval_df.show(5)"
   ]
  },
  {
   "cell_type": "code",
   "execution_count": 10,
   "metadata": {},
   "outputs": [
    {
     "name": "stdout",
     "output_type": "stream",
     "text": [
      "+--------------------+---------+---------+\n",
      "|count(DISTINCT user)|min(rank)|max(rank)|\n",
      "+--------------------+---------+---------+\n",
      "|                 430|        1|      100|\n",
      "+--------------------+---------+---------+\n",
      "\n"
     ]
    }
   ],
   "source": [
    "eval_df.selectExpr(\"count(DISTINCT user)\", \"min(rank)\", \"max(rank)\").show()"
   ]
  },
  {
   "cell_type": "code",
   "execution_count": 11,
   "metadata": {},
   "outputs": [
    {
     "name": "stdout",
     "output_type": "stream",
     "text": [
      "+----+-------------+\n",
      "|item|item_category|\n",
      "+----+-------------+\n",
      "| 296|    shorthead|\n",
      "| 356|    shorthead|\n",
      "| 318|    shorthead|\n",
      "| 593|    shorthead|\n",
      "| 480|    shorthead|\n",
      "+----+-------------+\n",
      "only showing top 5 rows\n",
      "\n"
     ]
    }
   ],
   "source": [
    "movie_cat = spark.read.parquet(\"/tmp/ml-20m/movie_categories.parquet\") \\\n",
    "  .withColumnRenamed(\"movieId\", \"item\") \\\n",
    "  .withColumnRenamed(\"category\", \"item_category\")\n",
    "\n",
    "movie_cat.show(5)"
   ]
  },
  {
   "cell_type": "code",
   "execution_count": 12,
   "metadata": {},
   "outputs": [
    {
     "name": "stdout",
     "output_type": "stream",
     "text": [
      "+-----+-------------+\n",
      "| user|longtail_pref|\n",
      "+-----+-------------+\n",
      "|69363|         0.05|\n",
      "|28486|         0.15|\n",
      "|83970|         0.23|\n",
      "|38051|         0.13|\n",
      "|28546|         0.17|\n",
      "+-----+-------------+\n",
      "only showing top 5 rows\n",
      "\n"
     ]
    }
   ],
   "source": [
    "user_pref = spark.read.parquet(\"/tmp/ml-20m/user_preference.parquet\") \\\n",
    "      .withColumnRenamed(\"userId\", \"user\") \n",
    "user_pref.show(5)"
   ]
  },
  {
   "cell_type": "markdown",
   "metadata": {},
   "source": [
    "# Evaluation"
   ]
  },
  {
   "cell_type": "markdown",
   "metadata": {},
   "source": [
    "Setup to calculate NDCG:"
   ]
  },
  {
   "cell_type": "code",
   "execution_count": 13,
   "metadata": {},
   "outputs": [],
   "source": [
    "rla = topn.RecListAnalysis()\n",
    "rla.add_metric(topn.ndcg)"
   ]
  },
  {
   "cell_type": "markdown",
   "metadata": {},
   "source": [
    "## Without Reranking"
   ]
  },
  {
   "cell_type": "markdown",
   "metadata": {},
   "source": [
    "NDCG:"
   ]
  },
  {
   "cell_type": "code",
   "execution_count": 14,
   "metadata": {},
   "outputs": [
    {
     "name": "stdout",
     "output_type": "stream",
     "text": [
      "NDCG@10: 0.0351\n"
     ]
    }
   ],
   "source": [
    "df = eval_df.filter(\"rank <= 10\").toPandas() \n",
    "print(f\"NDCG@10: {rla.compute(df, test_df).ndcg.mean():.4f}\")"
   ]
  },
  {
   "cell_type": "markdown",
   "metadata": {},
   "source": [
    "Longtail Coverage:"
   ]
  },
  {
   "cell_type": "code",
   "execution_count": 15,
   "metadata": {},
   "outputs": [
    {
     "name": "stdout",
     "output_type": "stream",
     "text": [
      "+-------------+-----------+------------+\n",
      "|item_category|total_items|unique_items|\n",
      "+-------------+-----------+------------+\n",
      "|longtail     |1250       |27          |\n",
      "|shorthead    |3050       |29          |\n",
      "+-------------+-----------+------------+\n",
      "\n"
     ]
    }
   ],
   "source": [
    "eval_df \\\n",
    "    .filter(\"rank <= 10\") \\\n",
    "    .join(movie_cat, \"item\", \"left\") \\\n",
    "    .groupBy(\"item_category\") \\\n",
    "    .agg(F.expr(\"count(item) AS total_items\"),\n",
    "         F.expr(\"count(DISTINCT item) AS unique_items\")) \\\n",
    "    .show(truncate=False)"
   ]
  },
  {
   "cell_type": "markdown",
   "metadata": {},
   "source": [
    "## With Reranking"
   ]
  },
  {
   "cell_type": "markdown",
   "metadata": {},
   "source": [
    "For each user, construct a candidate set and longtail preference:"
   ]
  },
  {
   "cell_type": "code",
   "execution_count": 16,
   "metadata": {},
   "outputs": [
    {
     "data": {
      "text/html": [
       "<div>\n",
       "<style scoped>\n",
       "    .dataframe tbody tr th:only-of-type {\n",
       "        vertical-align: middle;\n",
       "    }\n",
       "\n",
       "    .dataframe tbody tr th {\n",
       "        vertical-align: top;\n",
       "    }\n",
       "\n",
       "    .dataframe thead th {\n",
       "        text-align: right;\n",
       "    }\n",
       "</style>\n",
       "<table border=\"1\" class=\"dataframe\">\n",
       "  <thead>\n",
       "    <tr style=\"text-align: right;\">\n",
       "      <th></th>\n",
       "      <th>user</th>\n",
       "      <th>candidate_set</th>\n",
       "      <th>longtail_pref</th>\n",
       "    </tr>\n",
       "  </thead>\n",
       "  <tbody>\n",
       "    <tr>\n",
       "      <th>0</th>\n",
       "      <td>122961</td>\n",
       "      <td>[(47, 4.362047692584852, shorthead), (97, 4.32...</td>\n",
       "      <td>0.26</td>\n",
       "    </tr>\n",
       "    <tr>\n",
       "      <th>1</th>\n",
       "      <td>119757</td>\n",
       "      <td>[(48780, 3.588963104626058, shorthead), (1201,...</td>\n",
       "      <td>0.42</td>\n",
       "    </tr>\n",
       "    <tr>\n",
       "      <th>2</th>\n",
       "      <td>23124</td>\n",
       "      <td>[(750, 4.291495498505641, shorthead), (5368, 4...</td>\n",
       "      <td>0.24</td>\n",
       "    </tr>\n",
       "    <tr>\n",
       "      <th>3</th>\n",
       "      <td>2517</td>\n",
       "      <td>[(4011, 4.246780052696041, shorthead), (729, 4...</td>\n",
       "      <td>0.34</td>\n",
       "    </tr>\n",
       "    <tr>\n",
       "      <th>4</th>\n",
       "      <td>5148</td>\n",
       "      <td>[(318, 4.227326995556364, shorthead), (94466, ...</td>\n",
       "      <td>0.12</td>\n",
       "    </tr>\n",
       "  </tbody>\n",
       "</table>\n",
       "</div>"
      ],
      "text/plain": [
       "     user                                      candidate_set  longtail_pref\n",
       "0  122961  [(47, 4.362047692584852, shorthead), (97, 4.32...           0.26\n",
       "1  119757  [(48780, 3.588963104626058, shorthead), (1201,...           0.42\n",
       "2   23124  [(750, 4.291495498505641, shorthead), (5368, 4...           0.24\n",
       "3    2517  [(4011, 4.246780052696041, shorthead), (729, 4...           0.34\n",
       "4    5148  [(318, 4.227326995556364, shorthead), (94466, ...           0.12"
      ]
     },
     "execution_count": 16,
     "metadata": {},
     "output_type": "execute_result"
    }
   ],
   "source": [
    "user_details = eval_df \\\n",
    "    .join(movie_cat, \"item\", \"left\") \\\n",
    "    .withColumn(\"movie\", F.struct(F.col(\"item\").alias(\"movie_id\"),\n",
    "                                  F.col(\"score\").alias(\"base_score\"),\n",
    "                                  F.col(\"item_category\").alias(\"category\"))) \\\n",
    "    .groupBy(\"user\") \\\n",
    "    .agg(F.expr(\"collect_set(movie) AS candidate_set\")) \\\n",
    "    .join(user_pref, \"user\", \"left\") \\\n",
    "    .toPandas()\n",
    "\n",
    "user_details.head(5)"
   ]
  },
  {
   "cell_type": "markdown",
   "metadata": {},
   "source": [
    "Loop through each row to construct a reranked recommendation for each user:"
   ]
  },
  {
   "cell_type": "code",
   "execution_count": 17,
   "metadata": {},
   "outputs": [],
   "source": [
    "recsize = 10\n",
    "longtail_weight = 0.8"
   ]
  },
  {
   "cell_type": "code",
   "execution_count": 18,
   "metadata": {},
   "outputs": [
    {
     "data": {
      "text/html": [
       "<div>\n",
       "<style scoped>\n",
       "    .dataframe tbody tr th:only-of-type {\n",
       "        vertical-align: middle;\n",
       "    }\n",
       "\n",
       "    .dataframe tbody tr th {\n",
       "        vertical-align: top;\n",
       "    }\n",
       "\n",
       "    .dataframe thead th {\n",
       "        text-align: right;\n",
       "    }\n",
       "</style>\n",
       "<table border=\"1\" class=\"dataframe\">\n",
       "  <thead>\n",
       "    <tr style=\"text-align: right;\">\n",
       "      <th></th>\n",
       "      <th>user</th>\n",
       "      <th>candidate_set</th>\n",
       "      <th>longtail_pref</th>\n",
       "      <th>reranked_recs</th>\n",
       "    </tr>\n",
       "  </thead>\n",
       "  <tbody>\n",
       "    <tr>\n",
       "      <th>0</th>\n",
       "      <td>122961</td>\n",
       "      <td>[(47, 4.362047692584852, shorthead), (97, 4.32...</td>\n",
       "      <td>0.26</td>\n",
       "      <td>[(318, 4.657749438403102, shorthead), (26587, ...</td>\n",
       "    </tr>\n",
       "    <tr>\n",
       "      <th>1</th>\n",
       "      <td>119757</td>\n",
       "      <td>[(48780, 3.588963104626058, shorthead), (1201,...</td>\n",
       "      <td>0.42</td>\n",
       "      <td>[(318, 3.915625297514382, shorthead), (77658, ...</td>\n",
       "    </tr>\n",
       "    <tr>\n",
       "      <th>2</th>\n",
       "      <td>23124</td>\n",
       "      <td>[(750, 4.291495498505641, shorthead), (5368, 4...</td>\n",
       "      <td>0.24</td>\n",
       "      <td>[(44555, 4.4193419879089415, shorthead), (7765...</td>\n",
       "    </tr>\n",
       "    <tr>\n",
       "      <th>3</th>\n",
       "      <td>2517</td>\n",
       "      <td>[(4011, 4.246780052696041, shorthead), (729, 4...</td>\n",
       "      <td>0.34</td>\n",
       "      <td>[(318, 4.5429949618464205, shorthead), (7926, ...</td>\n",
       "    </tr>\n",
       "    <tr>\n",
       "      <th>4</th>\n",
       "      <td>5148</td>\n",
       "      <td>[(318, 4.227326995556364, shorthead), (94466, ...</td>\n",
       "      <td>0.12</td>\n",
       "      <td>[(318, 4.227326995556364, shorthead), (77658, ...</td>\n",
       "    </tr>\n",
       "  </tbody>\n",
       "</table>\n",
       "</div>"
      ],
      "text/plain": [
       "     user                                      candidate_set  longtail_pref  \\\n",
       "0  122961  [(47, 4.362047692584852, shorthead), (97, 4.32...           0.26   \n",
       "1  119757  [(48780, 3.588963104626058, shorthead), (1201,...           0.42   \n",
       "2   23124  [(750, 4.291495498505641, shorthead), (5368, 4...           0.24   \n",
       "3    2517  [(4011, 4.246780052696041, shorthead), (729, 4...           0.34   \n",
       "4    5148  [(318, 4.227326995556364, shorthead), (94466, ...           0.12   \n",
       "\n",
       "                                       reranked_recs  \n",
       "0  [(318, 4.657749438403102, shorthead), (26587, ...  \n",
       "1  [(318, 3.915625297514382, shorthead), (77658, ...  \n",
       "2  [(44555, 4.4193419879089415, shorthead), (7765...  \n",
       "3  [(318, 4.5429949618464205, shorthead), (7926, ...  \n",
       "4  [(318, 4.227326995556364, shorthead), (77658, ...  "
      ]
     },
     "execution_count": 18,
     "metadata": {},
     "output_type": "execute_result"
    }
   ],
   "source": [
    "def pyspark_rows_to_movies(rows: List[Row]):\n",
    "    return [pr.Movie(row.movie_id, row.base_score, row.category) \n",
    "            for row in rows]\n",
    "\n",
    "reranked_recs = []\n",
    "\n",
    "for user, candidate_set, longtail_pref in user_details.itertuples(name=None, index=False):\n",
    "    candidate_set = pyspark_rows_to_movies(candidate_set)\n",
    "    new_recs = pr.construct_reclist(candidate_set=candidate_set,\n",
    "                                    size=recsize,\n",
    "                                    longtail_pref=longtail_pref,\n",
    "                                    longtail_weight=longtail_weight)\n",
    "    \n",
    "    reranked_recs.append(new_recs)\n",
    "\n",
    "user_details[\"reranked_recs\"] = reranked_recs\n",
    "\n",
    "user_details.head(5)"
   ]
  },
  {
   "cell_type": "markdown",
   "metadata": {},
   "source": [
    "Transform `user_details` into `eval_df` form:"
   ]
  },
  {
   "cell_type": "code",
   "execution_count": 19,
   "metadata": {},
   "outputs": [
    {
     "data": {
      "text/html": [
       "<div>\n",
       "<style scoped>\n",
       "    .dataframe tbody tr th:only-of-type {\n",
       "        vertical-align: middle;\n",
       "    }\n",
       "\n",
       "    .dataframe tbody tr th {\n",
       "        vertical-align: top;\n",
       "    }\n",
       "\n",
       "    .dataframe thead th {\n",
       "        text-align: right;\n",
       "    }\n",
       "</style>\n",
       "<table border=\"1\" class=\"dataframe\">\n",
       "  <thead>\n",
       "    <tr style=\"text-align: right;\">\n",
       "      <th></th>\n",
       "      <th>item</th>\n",
       "      <th>score</th>\n",
       "      <th>user</th>\n",
       "      <th>rank</th>\n",
       "    </tr>\n",
       "  </thead>\n",
       "  <tbody>\n",
       "    <tr>\n",
       "      <th>192</th>\n",
       "      <td>26587</td>\n",
       "      <td>3.794953</td>\n",
       "      <td>318</td>\n",
       "      <td>1.0</td>\n",
       "    </tr>\n",
       "    <tr>\n",
       "      <th>192</th>\n",
       "      <td>7926</td>\n",
       "      <td>3.801407</td>\n",
       "      <td>318</td>\n",
       "      <td>2.0</td>\n",
       "    </tr>\n",
       "    <tr>\n",
       "      <th>192</th>\n",
       "      <td>100553</td>\n",
       "      <td>3.807512</td>\n",
       "      <td>318</td>\n",
       "      <td>3.0</td>\n",
       "    </tr>\n",
       "    <tr>\n",
       "      <th>192</th>\n",
       "      <td>858</td>\n",
       "      <td>3.813999</td>\n",
       "      <td>318</td>\n",
       "      <td>4.0</td>\n",
       "    </tr>\n",
       "    <tr>\n",
       "      <th>192</th>\n",
       "      <td>50</td>\n",
       "      <td>3.817681</td>\n",
       "      <td>318</td>\n",
       "      <td>5.0</td>\n",
       "    </tr>\n",
       "  </tbody>\n",
       "</table>\n",
       "</div>"
      ],
      "text/plain": [
       "       item     score  user  rank\n",
       "192   26587  3.794953   318   1.0\n",
       "192    7926  3.801407   318   2.0\n",
       "192  100553  3.807512   318   3.0\n",
       "192     858  3.813999   318   4.0\n",
       "192      50  3.817681   318   5.0"
      ]
     },
     "execution_count": 19,
     "metadata": {},
     "output_type": "execute_result"
    }
   ],
   "source": [
    "df = user_details[[\"user\", \"reranked_recs\"]] \\\n",
    "    .explode(\"reranked_recs\")\n",
    "\n",
    "df[\"item\"] = df[\"reranked_recs\"].apply(lambda m: m.movie_id)\n",
    "df[\"score\"] = df[\"reranked_recs\"].apply(lambda m: m.base_score)\n",
    "\n",
    "df = df[[\"item\", \"score\", \"user\"]]\n",
    "df[\"rank\"] = df.groupby(\"user\")[\"score\"].rank(\"dense\", ascending=True)\n",
    "\n",
    "df = df.sort_values(by=[\"user\", \"rank\"])\n",
    "\n",
    "df.head(5)"
   ]
  },
  {
   "cell_type": "markdown",
   "metadata": {},
   "source": [
    "NDCG:"
   ]
  },
  {
   "cell_type": "code",
   "execution_count": 20,
   "metadata": {},
   "outputs": [
    {
     "name": "stdout",
     "output_type": "stream",
     "text": [
      "NDCG@10: 0.0235\n"
     ]
    }
   ],
   "source": [
    "print(f\"NDCG@10: {rla.compute(df, test_df).ndcg.mean():.4f}\")"
   ]
  },
  {
   "cell_type": "markdown",
   "metadata": {},
   "source": [
    "Longtail Coverage:"
   ]
  },
  {
   "cell_type": "code",
   "execution_count": 21,
   "metadata": {},
   "outputs": [
    {
     "data": {
      "text/html": [
       "<div>\n",
       "<style scoped>\n",
       "    .dataframe tbody tr th:only-of-type {\n",
       "        vertical-align: middle;\n",
       "    }\n",
       "\n",
       "    .dataframe tbody tr th {\n",
       "        vertical-align: top;\n",
       "    }\n",
       "\n",
       "    .dataframe thead th {\n",
       "        text-align: right;\n",
       "    }\n",
       "</style>\n",
       "<table border=\"1\" class=\"dataframe\">\n",
       "  <thead>\n",
       "    <tr style=\"text-align: right;\">\n",
       "      <th></th>\n",
       "      <th>total_items</th>\n",
       "      <th>unique_items</th>\n",
       "    </tr>\n",
       "    <tr>\n",
       "      <th>item_category</th>\n",
       "      <th></th>\n",
       "      <th></th>\n",
       "    </tr>\n",
       "  </thead>\n",
       "  <tbody>\n",
       "    <tr>\n",
       "      <th>longtail</th>\n",
       "      <td>1698</td>\n",
       "      <td>28</td>\n",
       "    </tr>\n",
       "    <tr>\n",
       "      <th>shorthead</th>\n",
       "      <td>2602</td>\n",
       "      <td>30</td>\n",
       "    </tr>\n",
       "  </tbody>\n",
       "</table>\n",
       "</div>"
      ],
      "text/plain": [
       "               total_items  unique_items\n",
       "item_category                           \n",
       "longtail              1698            28\n",
       "shorthead             2602            30"
      ]
     },
     "execution_count": 21,
     "metadata": {},
     "output_type": "execute_result"
    }
   ],
   "source": [
    "df1 = df.merge(movie_cat.toPandas(), \n",
    "               on=\"item\", how=\"left\") \\\n",
    "  .groupby(\"item_category\") \\\n",
    "  .size() \\\n",
    "  .to_frame(\"total_items\")\n",
    "\n",
    "df2 = df.merge(movie_cat.toPandas(), \n",
    "               on=\"item\", how=\"left\") \\\n",
    "  .groupby(\"item_category\") \\\n",
    "  .item \\\n",
    "  .nunique() \\\n",
    "  .to_frame(\"unique_items\")\n",
    "\n",
    "pd.concat([df1, df2], axis=1)"
   ]
  }
 ],
 "metadata": {
  "@webio": {
   "lastCommId": null,
   "lastKernelId": null
  },
  "kernelspec": {
   "display_name": "dbconnect",
   "language": "python",
   "name": "dbconnect"
  },
  "language_info": {
   "codemirror_mode": {
    "name": "ipython",
    "version": 3
   },
   "file_extension": ".py",
   "mimetype": "text/x-python",
   "name": "python",
   "nbconvert_exporter": "python",
   "pygments_lexer": "ipython3",
   "version": "3.6.9"
  },
  "toc": {
   "nav_menu": {},
   "number_sections": true,
   "sideBar": true,
   "skip_h1_title": false,
   "toc_cell": true,
   "toc_position": {},
   "toc_section_display": "block",
   "toc_window_display": true
  }
 },
 "nbformat": 4,
 "nbformat_minor": 2
}
